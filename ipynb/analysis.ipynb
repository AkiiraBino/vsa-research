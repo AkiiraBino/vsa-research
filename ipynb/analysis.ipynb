{
 "cells": [
  {
   "cell_type": "code",
   "execution_count": 1,
   "metadata": {},
   "outputs": [],
   "source": [
    "import os\n",
    "\n",
    "import cv2\n",
    "import pandas as pd\n",
    "\n",
    "import matplotlib.pyplot as plt\n",
    "\n",
    "from utils import init_paths"
   ]
  },
  {
   "cell_type": "code",
   "execution_count": 8,
   "metadata": {},
   "outputs": [],
   "source": [
    "data = init_paths(data_folder=\"/original-data\")"
   ]
  },
  {
   "cell_type": "code",
   "execution_count": 15,
   "metadata": {},
   "outputs": [],
   "source": [
    "for path in data[\"FOLDERS_WITH_DATA\"]:\n",
    "    if not os.path.exists(path.replace(\"original-data\", \"labels\")) and path != \"/\":\n",
    "        os.mkdir(path.replace(\"original-data\", \"labels\"))"
   ]
  },
  {
   "cell_type": "markdown",
   "metadata": {},
   "source": [
    "# video"
   ]
  },
  {
   "cell_type": "code",
   "execution_count": 3,
   "metadata": {},
   "outputs": [],
   "source": [
    "metadata = []\n",
    "for path in data[\"PATH_TO_VIDEOS\"]:\n",
    "    capture = cv2.VideoCapture(path)\n",
    "    metadata.append(\n",
    "        {\n",
    "            \"title\": os.path.basename(path),\n",
    "            \"frame_count\": int(capture.get(cv2.CAP_PROP_FRAME_COUNT)),\n",
    "            \"frame_width\": int(capture.get(cv2.CAP_PROP_FRAME_WIDTH)),\n",
    "            \"frame_height\": int(capture.get(cv2.CAP_PROP_FRAME_HEIGHT)),\n",
    "            \"fps\": int(capture.get(cv2.CAP_PROP_FPS )),\n",
    "            \"path\": os.path.relpath(path)\n",
    "        } \n",
    "    )"
   ]
  },
  {
   "cell_type": "code",
   "execution_count": 4,
   "metadata": {},
   "outputs": [],
   "source": [
    "metadata = pd.DataFrame(metadata)"
   ]
  },
  {
   "cell_type": "code",
   "execution_count": 5,
   "metadata": {},
   "outputs": [],
   "source": [
    "metadata.index = metadata.title\n",
    "metadata = metadata.drop([\"title\"], axis=1)"
   ]
  },
  {
   "cell_type": "code",
   "execution_count": 6,
   "metadata": {},
   "outputs": [
    {
     "data": {
      "text/html": [
       "<div>\n",
       "<style scoped>\n",
       "    .dataframe tbody tr th:only-of-type {\n",
       "        vertical-align: middle;\n",
       "    }\n",
       "\n",
       "    .dataframe tbody tr th {\n",
       "        vertical-align: top;\n",
       "    }\n",
       "\n",
       "    .dataframe thead th {\n",
       "        text-align: right;\n",
       "    }\n",
       "</style>\n",
       "<table border=\"1\" class=\"dataframe\">\n",
       "  <thead>\n",
       "    <tr style=\"text-align: right;\">\n",
       "      <th></th>\n",
       "      <th>frame_count</th>\n",
       "      <th>frame_width</th>\n",
       "      <th>frame_height</th>\n",
       "      <th>fps</th>\n",
       "      <th>path</th>\n",
       "    </tr>\n",
       "    <tr>\n",
       "      <th>title</th>\n",
       "      <th></th>\n",
       "      <th></th>\n",
       "      <th></th>\n",
       "      <th></th>\n",
       "      <th></th>\n",
       "    </tr>\n",
       "  </thead>\n",
       "  <tbody>\n",
       "    <tr>\n",
       "      <th>video 19.2.66.10 - Cam-MBT-14 04.11.23 13.25.00-13.30.00.mp4</th>\n",
       "      <td>2104</td>\n",
       "      <td>1280</td>\n",
       "      <td>960</td>\n",
       "      <td>7</td>\n",
       "      <td>original-data/Южно-Сахалинск Панорама/video 19...</td>\n",
       "    </tr>\n",
       "    <tr>\n",
       "      <th>video 19.2.66.9 - C-20-63 04.11.23 12.27.00-12.32.00.mp4</th>\n",
       "      <td>7521</td>\n",
       "      <td>1920</td>\n",
       "      <td>1080</td>\n",
       "      <td>25</td>\n",
       "      <td>original-data/Южно-Сахалинск Панорама/video 19...</td>\n",
       "    </tr>\n",
       "    <tr>\n",
       "      <th>video 19.2.66.9 - C-39-58 04.11.23 12.27.00-12.32.00.mp4</th>\n",
       "      <td>7515</td>\n",
       "      <td>1920</td>\n",
       "      <td>1080</td>\n",
       "      <td>25</td>\n",
       "      <td>original-data/Южно-Сахалинск Панорама/video 19...</td>\n",
       "    </tr>\n",
       "    <tr>\n",
       "      <th>video 19.2.66.9 - C-41-40 04.11.23 11.27.00-11.32.00.mp4</th>\n",
       "      <td>7520</td>\n",
       "      <td>1920</td>\n",
       "      <td>1080</td>\n",
       "      <td>25</td>\n",
       "      <td>original-data/Южно-Сахалинск Панорама/video 19...</td>\n",
       "    </tr>\n",
       "    <tr>\n",
       "      <th>video 19.2.66.10 - Cam-supermarket-123 04.11.23 10.29.00-10.34.00.mp4</th>\n",
       "      <td>4540</td>\n",
       "      <td>1280</td>\n",
       "      <td>960</td>\n",
       "      <td>15</td>\n",
       "      <td>original-data/Южно-Сахалинск Панорама/video 19...</td>\n",
       "    </tr>\n",
       "    <tr>\n",
       "      <th>...</th>\n",
       "      <td>...</td>\n",
       "      <td>...</td>\n",
       "      <td>...</td>\n",
       "      <td>...</td>\n",
       "      <td>...</td>\n",
       "    </tr>\n",
       "    <tr>\n",
       "      <th>video 19.3.252.10 - cam39 07.10.23 12.55.00-13.05.00.mp4</th>\n",
       "      <td>14770</td>\n",
       "      <td>1920</td>\n",
       "      <td>1080</td>\n",
       "      <td>24</td>\n",
       "      <td>original-data/Вл-к Гоголя/video 19.3.252.10 - ...</td>\n",
       "    </tr>\n",
       "    <tr>\n",
       "      <th>video 19.3.252.10 - cam99 07.10.23 16.55.00-17.07.40.mp4</th>\n",
       "      <td>11337</td>\n",
       "      <td>2592</td>\n",
       "      <td>1944</td>\n",
       "      <td>14</td>\n",
       "      <td>original-data/Вл-к Гоголя/video 19.3.252.10 - ...</td>\n",
       "    </tr>\n",
       "    <tr>\n",
       "      <th>video 19.3.252.10 - cam71 07.10.23 17.00.00-17.10.00.mp4</th>\n",
       "      <td>14753</td>\n",
       "      <td>1920</td>\n",
       "      <td>1080</td>\n",
       "      <td>24</td>\n",
       "      <td>original-data/Вл-к Гоголя/video 19.3.252.10 - ...</td>\n",
       "    </tr>\n",
       "    <tr>\n",
       "      <th>video 19.3.252.10 - cam39 07.10.23 18.00.00-18.09.43.mp4</th>\n",
       "      <td>13602</td>\n",
       "      <td>1920</td>\n",
       "      <td>1080</td>\n",
       "      <td>24</td>\n",
       "      <td>original-data/Вл-к Гоголя/video 19.3.252.10 - ...</td>\n",
       "    </tr>\n",
       "    <tr>\n",
       "      <th>video 19.3.252.10 - cam25 07.10.23 19.00.00-19.10.00.mp4</th>\n",
       "      <td>9027</td>\n",
       "      <td>1920</td>\n",
       "      <td>1080</td>\n",
       "      <td>14</td>\n",
       "      <td>original-data/Вл-к Гоголя/video 19.3.252.10 - ...</td>\n",
       "    </tr>\n",
       "  </tbody>\n",
       "</table>\n",
       "<p>737 rows × 5 columns</p>\n",
       "</div>"
      ],
      "text/plain": [
       "                                                    frame_count  frame_width  \\\n",
       "title                                                                          \n",
       "video 19.2.66.10 - Cam-MBT-14 04.11.23 13.25.00...         2104         1280   \n",
       "video 19.2.66.9 - C-20-63 04.11.23 12.27.00-12....         7521         1920   \n",
       "video 19.2.66.9 - C-39-58 04.11.23 12.27.00-12....         7515         1920   \n",
       "video 19.2.66.9 - C-41-40 04.11.23 11.27.00-11....         7520         1920   \n",
       "video 19.2.66.10 - Cam-supermarket-123 04.11.23...         4540         1280   \n",
       "...                                                         ...          ...   \n",
       "video 19.3.252.10 - cam39 07.10.23 12.55.00-13....        14770         1920   \n",
       "video 19.3.252.10 - cam99 07.10.23 16.55.00-17....        11337         2592   \n",
       "video 19.3.252.10 - cam71 07.10.23 17.00.00-17....        14753         1920   \n",
       "video 19.3.252.10 - cam39 07.10.23 18.00.00-18....        13602         1920   \n",
       "video 19.3.252.10 - cam25 07.10.23 19.00.00-19....         9027         1920   \n",
       "\n",
       "                                                    frame_height  fps  \\\n",
       "title                                                                   \n",
       "video 19.2.66.10 - Cam-MBT-14 04.11.23 13.25.00...           960    7   \n",
       "video 19.2.66.9 - C-20-63 04.11.23 12.27.00-12....          1080   25   \n",
       "video 19.2.66.9 - C-39-58 04.11.23 12.27.00-12....          1080   25   \n",
       "video 19.2.66.9 - C-41-40 04.11.23 11.27.00-11....          1080   25   \n",
       "video 19.2.66.10 - Cam-supermarket-123 04.11.23...           960   15   \n",
       "...                                                          ...  ...   \n",
       "video 19.3.252.10 - cam39 07.10.23 12.55.00-13....          1080   24   \n",
       "video 19.3.252.10 - cam99 07.10.23 16.55.00-17....          1944   14   \n",
       "video 19.3.252.10 - cam71 07.10.23 17.00.00-17....          1080   24   \n",
       "video 19.3.252.10 - cam39 07.10.23 18.00.00-18....          1080   24   \n",
       "video 19.3.252.10 - cam25 07.10.23 19.00.00-19....          1080   14   \n",
       "\n",
       "                                                                                                 path  \n",
       "title                                                                                                  \n",
       "video 19.2.66.10 - Cam-MBT-14 04.11.23 13.25.00...  original-data/Южно-Сахалинск Панорама/video 19...  \n",
       "video 19.2.66.9 - C-20-63 04.11.23 12.27.00-12....  original-data/Южно-Сахалинск Панорама/video 19...  \n",
       "video 19.2.66.9 - C-39-58 04.11.23 12.27.00-12....  original-data/Южно-Сахалинск Панорама/video 19...  \n",
       "video 19.2.66.9 - C-41-40 04.11.23 11.27.00-11....  original-data/Южно-Сахалинск Панорама/video 19...  \n",
       "video 19.2.66.10 - Cam-supermarket-123 04.11.23...  original-data/Южно-Сахалинск Панорама/video 19...  \n",
       "...                                                                                               ...  \n",
       "video 19.3.252.10 - cam39 07.10.23 12.55.00-13....  original-data/Вл-к Гоголя/video 19.3.252.10 - ...  \n",
       "video 19.3.252.10 - cam99 07.10.23 16.55.00-17....  original-data/Вл-к Гоголя/video 19.3.252.10 - ...  \n",
       "video 19.3.252.10 - cam71 07.10.23 17.00.00-17....  original-data/Вл-к Гоголя/video 19.3.252.10 - ...  \n",
       "video 19.3.252.10 - cam39 07.10.23 18.00.00-18....  original-data/Вл-к Гоголя/video 19.3.252.10 - ...  \n",
       "video 19.3.252.10 - cam25 07.10.23 19.00.00-19....  original-data/Вл-к Гоголя/video 19.3.252.10 - ...  \n",
       "\n",
       "[737 rows x 5 columns]"
      ]
     },
     "execution_count": 6,
     "metadata": {},
     "output_type": "execute_result"
    }
   ],
   "source": [
    "metadata"
   ]
  },
  {
   "cell_type": "code",
   "execution_count": 7,
   "metadata": {},
   "outputs": [
    {
     "data": {
      "text/html": [
       "<div>\n",
       "<style scoped>\n",
       "    .dataframe tbody tr th:only-of-type {\n",
       "        vertical-align: middle;\n",
       "    }\n",
       "\n",
       "    .dataframe tbody tr th {\n",
       "        vertical-align: top;\n",
       "    }\n",
       "\n",
       "    .dataframe thead th {\n",
       "        text-align: right;\n",
       "    }\n",
       "</style>\n",
       "<table border=\"1\" class=\"dataframe\">\n",
       "  <thead>\n",
       "    <tr style=\"text-align: right;\">\n",
       "      <th></th>\n",
       "      <th>frame_count</th>\n",
       "      <th>frame_width</th>\n",
       "      <th>frame_height</th>\n",
       "      <th>fps</th>\n",
       "    </tr>\n",
       "  </thead>\n",
       "  <tbody>\n",
       "    <tr>\n",
       "      <th>count</th>\n",
       "      <td>737.000000</td>\n",
       "      <td>737.000000</td>\n",
       "      <td>737.000000</td>\n",
       "      <td>737.000000</td>\n",
       "    </tr>\n",
       "    <tr>\n",
       "      <th>mean</th>\n",
       "      <td>5468.340570</td>\n",
       "      <td>1555.625509</td>\n",
       "      <td>945.508820</td>\n",
       "      <td>15.936228</td>\n",
       "    </tr>\n",
       "    <tr>\n",
       "      <th>std</th>\n",
       "      <td>2406.483065</td>\n",
       "      <td>386.115170</td>\n",
       "      <td>254.269762</td>\n",
       "      <td>5.005704</td>\n",
       "    </tr>\n",
       "    <tr>\n",
       "      <th>min</th>\n",
       "      <td>21.000000</td>\n",
       "      <td>1280.000000</td>\n",
       "      <td>720.000000</td>\n",
       "      <td>7.000000</td>\n",
       "    </tr>\n",
       "    <tr>\n",
       "      <th>25%</th>\n",
       "      <td>4503.000000</td>\n",
       "      <td>1280.000000</td>\n",
       "      <td>720.000000</td>\n",
       "      <td>14.000000</td>\n",
       "    </tr>\n",
       "    <tr>\n",
       "      <th>50%</th>\n",
       "      <td>4533.000000</td>\n",
       "      <td>1280.000000</td>\n",
       "      <td>960.000000</td>\n",
       "      <td>15.000000</td>\n",
       "    </tr>\n",
       "    <tr>\n",
       "      <th>75%</th>\n",
       "      <td>7504.000000</td>\n",
       "      <td>1920.000000</td>\n",
       "      <td>1080.000000</td>\n",
       "      <td>15.000000</td>\n",
       "    </tr>\n",
       "    <tr>\n",
       "      <th>max</th>\n",
       "      <td>15927.000000</td>\n",
       "      <td>2592.000000</td>\n",
       "      <td>1944.000000</td>\n",
       "      <td>25.000000</td>\n",
       "    </tr>\n",
       "  </tbody>\n",
       "</table>\n",
       "</div>"
      ],
      "text/plain": [
       "        frame_count  frame_width  frame_height         fps\n",
       "count    737.000000   737.000000    737.000000  737.000000\n",
       "mean    5468.340570  1555.625509    945.508820   15.936228\n",
       "std     2406.483065   386.115170    254.269762    5.005704\n",
       "min       21.000000  1280.000000    720.000000    7.000000\n",
       "25%     4503.000000  1280.000000    720.000000   14.000000\n",
       "50%     4533.000000  1280.000000    960.000000   15.000000\n",
       "75%     7504.000000  1920.000000   1080.000000   15.000000\n",
       "max    15927.000000  2592.000000   1944.000000   25.000000"
      ]
     },
     "execution_count": 7,
     "metadata": {},
     "output_type": "execute_result"
    }
   ],
   "source": [
    "metadata.describe()"
   ]
  },
  {
   "cell_type": "code",
   "execution_count": 8,
   "metadata": {},
   "outputs": [
    {
     "data": {
      "text/plain": [
       "4030167"
      ]
     },
     "execution_count": 8,
     "metadata": {},
     "output_type": "execute_result"
    }
   ],
   "source": [
    "metadata[\"frame_count\"].sum()"
   ]
  },
  {
   "cell_type": "code",
   "execution_count": 14,
   "metadata": {},
   "outputs": [
    {
     "data": {
      "image/png": "[encoded data removed]",
      "text/plain": [
       "<Figure size 640x480 with 1 Axes>"
      ]
     },
     "metadata": {},
     "output_type": "display_data"
    }
   ],
   "source": [
    "width_height = pd.Series([f\"{w}x{h}\" for w, h in zip(metadata[\"frame_width\"], metadata[\"frame_height\"])])\n",
    "plt.barh(width_height.unique(), width=list(width_height.value_counts()))\n",
    "plt.xlabel(\"Разрешение\")\n",
    "plt.ylabel(\"Количество\")\n",
    "plt.show()"
   ]
  },
  {
   "cell_type": "code",
   "execution_count": 40,
   "metadata": {},
   "outputs": [
    {
     "data": {
      "text/plain": [
       "array([ 7, 25, 15, 24, 14,  9, 11, 12, 10, 13])"
      ]
     },
     "execution_count": 40,
     "metadata": {},
     "output_type": "execute_result"
    }
   ],
   "source": [
    "metadata[\"fps\"].unique()"
   ]
  },
  {
   "cell_type": "code",
   "execution_count": 42,
   "metadata": {},
   "outputs": [
    {
     "data": {
      "image/png": "[encoded data removed]",
      "text/plain": [
       "<Figure size 640x480 with 1 Axes>"
      ]
     },
     "metadata": {},
     "output_type": "display_data"
    }
   ],
   "source": [
    "explode = (0.1, 0.1, 0.1, 0.1, 0.1, 0.35, 0.35, 0.35, 0.35, 0.35)\n",
    "plt.pie(list(metadata[\"fps\"].value_counts()), labels=metadata[\"fps\"].unique(), autopct='%1.2f%%', explode=explode)\n",
    "plt.xlabel(\"fps\")\n",
    "plt.ylabel(\"Количество\")\n",
    "plt.show()"
   ]
  },
  {
   "cell_type": "code",
   "execution_count": 43,
   "metadata": {},
   "outputs": [
    {
     "data": {
      "text/plain": [
       "count          737\n",
       "unique           7\n",
       "top       1280x720\n",
       "freq           300\n",
       "dtype: object"
      ]
     },
     "execution_count": 43,
     "metadata": {},
     "output_type": "execute_result"
    }
   ],
   "source": [
    "width_height.describe()"
   ]
  },
  {
   "cell_type": "code",
   "execution_count": 44,
   "metadata": {},
   "outputs": [
    {
     "data": {
      "image/png": "[encoded data removed]",
      "text/plain": [
       "<Figure size 640x480 with 1 Axes>"
      ]
     },
     "metadata": {},
     "output_type": "display_data"
    }
   ],
   "source": [
    "width_height_fps = pd.Series([f\"{w}x{h}x{f}\" for w, h, f in zip(metadata[\"frame_width\"], metadata[\"frame_height\"], metadata[\"fps\"])])\n",
    "plt.barh(width_height_fps.unique(), width=list(width_height_fps.value_counts()))\n",
    "plt.ylabel(\"Разрешение\")\n",
    "plt.xlabel(\"Количество\")\n",
    "plt.show()"
   ]
  },
  {
   "cell_type": "code",
   "execution_count": 45,
   "metadata": {},
   "outputs": [
    {
     "data": {
      "text/plain": [
       "0"
      ]
     },
     "execution_count": 45,
     "metadata": {},
     "output_type": "execute_result"
    }
   ],
   "source": [
    "crashed = metadata[(metadata[\"frame_count\"] == 1) | (metadata[\"fps\"] == 0)][\"path\"]\n",
    "crashed.count()"
   ]
  },
  {
   "cell_type": "code",
   "execution_count": null,
   "metadata": {},
   "outputs": [],
   "source": [
    "crashed.to_csv(\"./data/crashed.csv\", sep=\";\")"
   ]
  },
  {
   "cell_type": "code",
   "execution_count": 25,
   "metadata": {},
   "outputs": [],
   "source": [
    "import os\n",
    "for path in crashed:\n",
    "    os.remove(path)"
   ]
  },
  {
   "cell_type": "code",
   "execution_count": 47,
   "metadata": {},
   "outputs": [],
   "source": [
    "metadata = metadata[(metadata[\"frame_count\"] != 1) | (metadata[\"fps\"] != 0)]\n",
    "metadata.to_csv(\"./original-data/metadata_video.csv\", sep=\";\")"
   ]
  },
  {
   "cell_type": "markdown",
   "metadata": {},
   "source": [
    "# img"
   ]
  },
  {
   "cell_type": "code",
   "execution_count": 48,
   "metadata": {},
   "outputs": [],
   "source": [
    "metadata = []\n",
    "for path in data[\"PATH_TO_IMGS\"]:\n",
    "    img = cv2.imread(path)\n",
    "    try:\n",
    "        metadata.append(\n",
    "            {\n",
    "                \"title\": os.path.basename(path),\n",
    "                \"width\": img.shape[0],\n",
    "                \"height\": img.shape[1],\n",
    "                \"color channels\": img.shape[2],\n",
    "                \"path\": os.path.relpath(path)\n",
    "            }\n",
    "        )\n",
    "    except:\n",
    "        print(path)"
   ]
  },
  {
   "cell_type": "code",
   "execution_count": 49,
   "metadata": {},
   "outputs": [],
   "source": [
    "metadata = pd.DataFrame(metadata)\n",
    "metadata.index = metadata.title\n",
    "metadata = metadata.drop([\"title\"], axis=1)"
   ]
  },
  {
   "cell_type": "code",
   "execution_count": 50,
   "metadata": {},
   "outputs": [
    {
     "data": {
      "text/html": [
       "<div>\n",
       "<style scoped>\n",
       "    .dataframe tbody tr th:only-of-type {\n",
       "        vertical-align: middle;\n",
       "    }\n",
       "\n",
       "    .dataframe tbody tr th {\n",
       "        vertical-align: top;\n",
       "    }\n",
       "\n",
       "    .dataframe thead th {\n",
       "        text-align: right;\n",
       "    }\n",
       "</style>\n",
       "<table border=\"1\" class=\"dataframe\">\n",
       "  <thead>\n",
       "    <tr style=\"text-align: right;\">\n",
       "      <th></th>\n",
       "      <th>width</th>\n",
       "      <th>height</th>\n",
       "      <th>color channels</th>\n",
       "      <th>path</th>\n",
       "    </tr>\n",
       "    <tr>\n",
       "      <th>title</th>\n",
       "      <th></th>\n",
       "      <th></th>\n",
       "      <th></th>\n",
       "      <th></th>\n",
       "    </tr>\n",
       "  </thead>\n",
       "  <tbody>\n",
       "    <tr>\n",
       "      <th>snapshot cam29-01_12_23_12_01_22.png</th>\n",
       "      <td>960</td>\n",
       "      <td>1280</td>\n",
       "      <td>3</td>\n",
       "      <td>original-data/Артем Пушкина/snapshot cam29-01_...</td>\n",
       "    </tr>\n",
       "    <tr>\n",
       "      <th>snapshot cam67-15_11_23_18_01_37.png</th>\n",
       "      <td>960</td>\n",
       "      <td>1280</td>\n",
       "      <td>3</td>\n",
       "      <td>original-data/Артем Пушкина/snapshot cam67-15_...</td>\n",
       "    </tr>\n",
       "    <tr>\n",
       "      <th>snapshot cam11-15_11_23_09_59_08.png</th>\n",
       "      <td>960</td>\n",
       "      <td>1280</td>\n",
       "      <td>3</td>\n",
       "      <td>original-data/Артем Пушкина/snapshot cam11-15_...</td>\n",
       "    </tr>\n",
       "    <tr>\n",
       "      <th>snapshot cam13-29_11_23_19_38_30.png</th>\n",
       "      <td>960</td>\n",
       "      <td>1280</td>\n",
       "      <td>3</td>\n",
       "      <td>original-data/Артем Пушкина/snapshot cam13-29_...</td>\n",
       "    </tr>\n",
       "    <tr>\n",
       "      <th>snapshot cam11-17_11_23_10_03_46.png</th>\n",
       "      <td>960</td>\n",
       "      <td>1280</td>\n",
       "      <td>3</td>\n",
       "      <td>original-data/Артем Пушкина/snapshot cam11-17_...</td>\n",
       "    </tr>\n",
       "    <tr>\n",
       "      <th>...</th>\n",
       "      <td>...</td>\n",
       "      <td>...</td>\n",
       "      <td>...</td>\n",
       "      <td>...</td>\n",
       "    </tr>\n",
       "    <tr>\n",
       "      <th>snapshot CAM55-27_11_23_19_23_27.png</th>\n",
       "      <td>960</td>\n",
       "      <td>1280</td>\n",
       "      <td>3</td>\n",
       "      <td>original-data/Вл-к Гоголя/snapshot CAM55-27_11...</td>\n",
       "    </tr>\n",
       "    <tr>\n",
       "      <th>snapshot CAM56-19_11_23_12_05_09.png</th>\n",
       "      <td>960</td>\n",
       "      <td>1280</td>\n",
       "      <td>3</td>\n",
       "      <td>original-data/Вл-к Гоголя/snapshot CAM56-19_11...</td>\n",
       "    </tr>\n",
       "    <tr>\n",
       "      <th>snapshot CAM55-21_11_23_19_23_26.png</th>\n",
       "      <td>960</td>\n",
       "      <td>1280</td>\n",
       "      <td>3</td>\n",
       "      <td>original-data/Вл-к Гоголя/snapshot CAM55-21_11...</td>\n",
       "    </tr>\n",
       "    <tr>\n",
       "      <th>snapshot CAM56-13_12_23_16_05_56.png</th>\n",
       "      <td>960</td>\n",
       "      <td>1280</td>\n",
       "      <td>3</td>\n",
       "      <td>original-data/Вл-к Гоголя/snapshot CAM56-13_12...</td>\n",
       "    </tr>\n",
       "    <tr>\n",
       "      <th>snapshot CAM55-26_11_23_16_05_57.png</th>\n",
       "      <td>960</td>\n",
       "      <td>1280</td>\n",
       "      <td>3</td>\n",
       "      <td>original-data/Вл-к Гоголя/snapshot CAM55-26_11...</td>\n",
       "    </tr>\n",
       "  </tbody>\n",
       "</table>\n",
       "<p>6629 rows × 4 columns</p>\n",
       "</div>"
      ],
      "text/plain": [
       "                                      width  height  color channels  \\\n",
       "title                                                                 \n",
       "snapshot cam29-01_12_23_12_01_22.png    960    1280               3   \n",
       "snapshot cam67-15_11_23_18_01_37.png    960    1280               3   \n",
       "snapshot cam11-15_11_23_09_59_08.png    960    1280               3   \n",
       "snapshot cam13-29_11_23_19_38_30.png    960    1280               3   \n",
       "snapshot cam11-17_11_23_10_03_46.png    960    1280               3   \n",
       "...                                     ...     ...             ...   \n",
       "snapshot CAM55-27_11_23_19_23_27.png    960    1280               3   \n",
       "snapshot CAM56-19_11_23_12_05_09.png    960    1280               3   \n",
       "snapshot CAM55-21_11_23_19_23_26.png    960    1280               3   \n",
       "snapshot CAM56-13_12_23_16_05_56.png    960    1280               3   \n",
       "snapshot CAM55-26_11_23_16_05_57.png    960    1280               3   \n",
       "\n",
       "                                                                                   path  \n",
       "title                                                                                    \n",
       "snapshot cam29-01_12_23_12_01_22.png  original-data/Артем Пушкина/snapshot cam29-01_...  \n",
       "snapshot cam67-15_11_23_18_01_37.png  original-data/Артем Пушкина/snapshot cam67-15_...  \n",
       "snapshot cam11-15_11_23_09_59_08.png  original-data/Артем Пушкина/snapshot cam11-15_...  \n",
       "snapshot cam13-29_11_23_19_38_30.png  original-data/Артем Пушкина/snapshot cam13-29_...  \n",
       "snapshot cam11-17_11_23_10_03_46.png  original-data/Артем Пушкина/snapshot cam11-17_...  \n",
       "...                                                                                 ...  \n",
       "snapshot CAM55-27_11_23_19_23_27.png  original-data/Вл-к Гоголя/snapshot CAM55-27_11...  \n",
       "snapshot CAM56-19_11_23_12_05_09.png  original-data/Вл-к Гоголя/snapshot CAM56-19_11...  \n",
       "snapshot CAM55-21_11_23_19_23_26.png  original-data/Вл-к Гоголя/snapshot CAM55-21_11...  \n",
       "snapshot CAM56-13_12_23_16_05_56.png  original-data/Вл-к Гоголя/snapshot CAM56-13_12...  \n",
       "snapshot CAM55-26_11_23_16_05_57.png  original-data/Вл-к Гоголя/snapshot CAM55-26_11...  \n",
       "\n",
       "[6629 rows x 4 columns]"
      ]
     },
     "execution_count": 50,
     "metadata": {},
     "output_type": "execute_result"
    }
   ],
   "source": [
    "metadata"
   ]
  },
  {
   "cell_type": "code",
   "execution_count": 120,
   "metadata": {},
   "outputs": [],
   "source": [
    "metadata.to_csv(\"./data/metadata_imgs.csv\", sep=\";\")"
   ]
  },
  {
   "cell_type": "markdown",
   "metadata": {},
   "source": [
    "# Pipeline"
   ]
  },
  {
   "cell_type": "code",
   "execution_count": 4,
   "metadata": {},
   "outputs": [
    {
     "data": {
      "text/html": [
       "<div>\n",
       "<style scoped>\n",
       "    .dataframe tbody tr th:only-of-type {\n",
       "        vertical-align: middle;\n",
       "    }\n",
       "\n",
       "    .dataframe tbody tr th {\n",
       "        vertical-align: top;\n",
       "    }\n",
       "\n",
       "    .dataframe thead th {\n",
       "        text-align: right;\n",
       "    }\n",
       "</style>\n",
       "<table border=\"1\" class=\"dataframe\">\n",
       "  <thead>\n",
       "    <tr style=\"text-align: right;\">\n",
       "      <th></th>\n",
       "      <th>time_begin_stream</th>\n",
       "      <th>send_time</th>\n",
       "      <th>time_pipeline_stream</th>\n",
       "      <th>size_frame</th>\n",
       "      <th>time_begin_check_delay</th>\n",
       "      <th>time_before_model</th>\n",
       "      <th>time_job_model</th>\n",
       "    </tr>\n",
       "  </thead>\n",
       "  <tbody>\n",
       "    <tr>\n",
       "      <th>0</th>\n",
       "      <td>1.711415e+09</td>\n",
       "      <td>1.711415e+09</td>\n",
       "      <td>0.005110</td>\n",
       "      <td>8</td>\n",
       "      <td>1.711415e+09</td>\n",
       "      <td>1.711415e+09</td>\n",
       "      <td>1.693921</td>\n",
       "    </tr>\n",
       "    <tr>\n",
       "      <th>1</th>\n",
       "      <td>1.711415e+09</td>\n",
       "      <td>1.711415e+09</td>\n",
       "      <td>0.003398</td>\n",
       "      <td>8</td>\n",
       "      <td>1.711415e+09</td>\n",
       "      <td>1.711415e+09</td>\n",
       "      <td>0.205570</td>\n",
       "    </tr>\n",
       "    <tr>\n",
       "      <th>2</th>\n",
       "      <td>1.711415e+09</td>\n",
       "      <td>1.711415e+09</td>\n",
       "      <td>0.003770</td>\n",
       "      <td>8</td>\n",
       "      <td>1.711415e+09</td>\n",
       "      <td>1.711415e+09</td>\n",
       "      <td>0.147807</td>\n",
       "    </tr>\n",
       "    <tr>\n",
       "      <th>3</th>\n",
       "      <td>1.711415e+09</td>\n",
       "      <td>1.711415e+09</td>\n",
       "      <td>0.004323</td>\n",
       "      <td>8</td>\n",
       "      <td>1.711415e+09</td>\n",
       "      <td>1.711415e+09</td>\n",
       "      <td>0.103655</td>\n",
       "    </tr>\n",
       "    <tr>\n",
       "      <th>4</th>\n",
       "      <td>1.711415e+09</td>\n",
       "      <td>1.711415e+09</td>\n",
       "      <td>0.003973</td>\n",
       "      <td>8</td>\n",
       "      <td>1.711415e+09</td>\n",
       "      <td>1.711415e+09</td>\n",
       "      <td>0.141082</td>\n",
       "    </tr>\n",
       "  </tbody>\n",
       "</table>\n",
       "</div>"
      ],
      "text/plain": [
       "   time_begin_stream     send_time  time_pipeline_stream  size_frame  \\\n",
       "0       1.711415e+09  1.711415e+09              0.005110           8   \n",
       "1       1.711415e+09  1.711415e+09              0.003398           8   \n",
       "2       1.711415e+09  1.711415e+09              0.003770           8   \n",
       "3       1.711415e+09  1.711415e+09              0.004323           8   \n",
       "4       1.711415e+09  1.711415e+09              0.003973           8   \n",
       "\n",
       "   time_begin_check_delay  time_before_model  time_job_model  \n",
       "0            1.711415e+09       1.711415e+09        1.693921  \n",
       "1            1.711415e+09       1.711415e+09        0.205570  \n",
       "2            1.711415e+09       1.711415e+09        0.147807  \n",
       "3            1.711415e+09       1.711415e+09        0.103655  \n",
       "4            1.711415e+09       1.711415e+09        0.141082  "
      ]
     },
     "execution_count": 4,
     "metadata": {},
     "output_type": "execute_result"
    }
   ],
   "source": [
    "df1 = pd.read_csv(\"./5550.csv\", index_col=\"Unnamed: 0\").drop(\"frame\", axis=1)\n",
    "df1.head()"
   ]
  },
  {
   "cell_type": "code",
   "execution_count": 5,
   "metadata": {},
   "outputs": [
    {
     "data": {
      "text/html": [
       "<div>\n",
       "<style scoped>\n",
       "    .dataframe tbody tr th:only-of-type {\n",
       "        vertical-align: middle;\n",
       "    }\n",
       "\n",
       "    .dataframe tbody tr th {\n",
       "        vertical-align: top;\n",
       "    }\n",
       "\n",
       "    .dataframe thead th {\n",
       "        text-align: right;\n",
       "    }\n",
       "</style>\n",
       "<table border=\"1\" class=\"dataframe\">\n",
       "  <thead>\n",
       "    <tr style=\"text-align: right;\">\n",
       "      <th></th>\n",
       "      <th>time_begin_stream</th>\n",
       "      <th>send_time</th>\n",
       "      <th>time_pipeline_stream</th>\n",
       "      <th>size_frame</th>\n",
       "      <th>time_begin_check_delay</th>\n",
       "      <th>time_before_model</th>\n",
       "      <th>time_job_model</th>\n",
       "    </tr>\n",
       "  </thead>\n",
       "  <tbody>\n",
       "    <tr>\n",
       "      <th>0</th>\n",
       "      <td>1.711415e+09</td>\n",
       "      <td>1.711415e+09</td>\n",
       "      <td>0.003986</td>\n",
       "      <td>8</td>\n",
       "      <td>1.711415e+09</td>\n",
       "      <td>1.711415e+09</td>\n",
       "      <td>7.935303</td>\n",
       "    </tr>\n",
       "    <tr>\n",
       "      <th>1</th>\n",
       "      <td>1.711415e+09</td>\n",
       "      <td>1.711415e+09</td>\n",
       "      <td>0.002779</td>\n",
       "      <td>8</td>\n",
       "      <td>1.711415e+09</td>\n",
       "      <td>1.711415e+09</td>\n",
       "      <td>0.076100</td>\n",
       "    </tr>\n",
       "    <tr>\n",
       "      <th>2</th>\n",
       "      <td>1.711415e+09</td>\n",
       "      <td>1.711415e+09</td>\n",
       "      <td>0.002686</td>\n",
       "      <td>8</td>\n",
       "      <td>1.711415e+09</td>\n",
       "      <td>1.711415e+09</td>\n",
       "      <td>0.076240</td>\n",
       "    </tr>\n",
       "    <tr>\n",
       "      <th>3</th>\n",
       "      <td>1.711415e+09</td>\n",
       "      <td>1.711415e+09</td>\n",
       "      <td>0.002575</td>\n",
       "      <td>8</td>\n",
       "      <td>1.711415e+09</td>\n",
       "      <td>1.711415e+09</td>\n",
       "      <td>0.077705</td>\n",
       "    </tr>\n",
       "    <tr>\n",
       "      <th>4</th>\n",
       "      <td>1.711415e+09</td>\n",
       "      <td>1.711415e+09</td>\n",
       "      <td>0.002889</td>\n",
       "      <td>8</td>\n",
       "      <td>1.711415e+09</td>\n",
       "      <td>1.711415e+09</td>\n",
       "      <td>0.078659</td>\n",
       "    </tr>\n",
       "  </tbody>\n",
       "</table>\n",
       "</div>"
      ],
      "text/plain": [
       "   time_begin_stream     send_time  time_pipeline_stream  size_frame  \\\n",
       "0       1.711415e+09  1.711415e+09              0.003986           8   \n",
       "1       1.711415e+09  1.711415e+09              0.002779           8   \n",
       "2       1.711415e+09  1.711415e+09              0.002686           8   \n",
       "3       1.711415e+09  1.711415e+09              0.002575           8   \n",
       "4       1.711415e+09  1.711415e+09              0.002889           8   \n",
       "\n",
       "   time_begin_check_delay  time_before_model  time_job_model  \n",
       "0            1.711415e+09       1.711415e+09        7.935303  \n",
       "1            1.711415e+09       1.711415e+09        0.076100  \n",
       "2            1.711415e+09       1.711415e+09        0.076240  \n",
       "3            1.711415e+09       1.711415e+09        0.077705  \n",
       "4            1.711415e+09       1.711415e+09        0.078659  "
      ]
     },
     "execution_count": 5,
     "metadata": {},
     "output_type": "execute_result"
    }
   ],
   "source": [
    "df2 = pd.read_csv(\"./5551.csv\", index_col=\"Unnamed: 0\").drop(\"frame\", axis=1)\n",
    "df2.head()"
   ]
  },
  {
   "cell_type": "code",
   "execution_count": null,
   "metadata": {},
   "outputs": [],
   "source": []
  }
 ],
 "metadata": {
  "kernelspec": {
   "display_name": "video",
   "language": "python",
   "name": "python3"
  },
  "language_info": {
   "codemirror_mode": {
    "name": "ipython",
    "version": 3
   },
   "file_extension": ".py",
   "mimetype": "text/x-python",
   "name": "python",
   "nbconvert_exporter": "python",
   "pygments_lexer": "ipython3",
   "version": "3.11.7"
  }
 },
 "nbformat": 4,
 "nbformat_minor": 2
}
