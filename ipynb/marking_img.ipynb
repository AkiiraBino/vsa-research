{
 "cells": [
  {
   "cell_type": "code",
   "execution_count": 1,
   "metadata": {},
   "outputs": [],
   "source": [
    "import cv2\n",
    "\n",
    "import numpy as np\n",
    "import pandas as pd\n",
    "import pickle\n",
    "\n",
    "import os\n",
    "import shutil\n",
    "\n",
    "from ultralytics import YOLO\n",
    "\n",
    "from tqdm import tqdm\n",
    "\n",
    "from utils import init_metadata"
   ]
  },
  {
   "cell_type": "code",
   "execution_count": 2,
   "metadata": {},
   "outputs": [
    {
     "data": {
      "text/html": [
       "<div>\n",
       "<style scoped>\n",
       "    .dataframe tbody tr th:only-of-type {\n",
       "        vertical-align: middle;\n",
       "    }\n",
       "\n",
       "    .dataframe tbody tr th {\n",
       "        vertical-align: top;\n",
       "    }\n",
       "\n",
       "    .dataframe thead th {\n",
       "        text-align: right;\n",
       "    }\n",
       "</style>\n",
       "<table border=\"1\" class=\"dataframe\">\n",
       "  <thead>\n",
       "    <tr style=\"text-align: right;\">\n",
       "      <th></th>\n",
       "      <th>width</th>\n",
       "      <th>height</th>\n",
       "      <th>color channels</th>\n",
       "      <th>path</th>\n",
       "    </tr>\n",
       "    <tr>\n",
       "      <th>title</th>\n",
       "      <th></th>\n",
       "      <th></th>\n",
       "      <th></th>\n",
       "      <th></th>\n",
       "    </tr>\n",
       "  </thead>\n",
       "  <tbody>\n",
       "    <tr>\n",
       "      <th>snapshot cam29-01_12_23_12_01_22.png</th>\n",
       "      <td>720</td>\n",
       "      <td>1280</td>\n",
       "      <td>3</td>\n",
       "      <td>data/Артем Пушкина/snapshot cam29-01_12_23_12_...</td>\n",
       "    </tr>\n",
       "    <tr>\n",
       "      <th>snapshot cam67-15_11_23_18_01_37.png</th>\n",
       "      <td>720</td>\n",
       "      <td>1280</td>\n",
       "      <td>3</td>\n",
       "      <td>data/Артем Пушкина/snapshot cam67-15_11_23_18_...</td>\n",
       "    </tr>\n",
       "    <tr>\n",
       "      <th>snapshot cam11-15_11_23_09_59_08.png</th>\n",
       "      <td>720</td>\n",
       "      <td>1280</td>\n",
       "      <td>3</td>\n",
       "      <td>data/Артем Пушкина/snapshot cam11-15_11_23_09_...</td>\n",
       "    </tr>\n",
       "    <tr>\n",
       "      <th>snapshot cam13-29_11_23_19_38_30.png</th>\n",
       "      <td>720</td>\n",
       "      <td>1280</td>\n",
       "      <td>3</td>\n",
       "      <td>data/Артем Пушкина/snapshot cam13-29_11_23_19_...</td>\n",
       "    </tr>\n",
       "    <tr>\n",
       "      <th>snapshot cam11-17_11_23_10_03_46.png</th>\n",
       "      <td>720</td>\n",
       "      <td>1280</td>\n",
       "      <td>3</td>\n",
       "      <td>data/Артем Пушкина/snapshot cam11-17_11_23_10_...</td>\n",
       "    </tr>\n",
       "  </tbody>\n",
       "</table>\n",
       "</div>"
      ],
      "text/plain": [
       "                                      width  height  color channels  \\\n",
       "title                                                                 \n",
       "snapshot cam29-01_12_23_12_01_22.png    720    1280               3   \n",
       "snapshot cam67-15_11_23_18_01_37.png    720    1280               3   \n",
       "snapshot cam11-15_11_23_09_59_08.png    720    1280               3   \n",
       "snapshot cam13-29_11_23_19_38_30.png    720    1280               3   \n",
       "snapshot cam11-17_11_23_10_03_46.png    720    1280               3   \n",
       "\n",
       "                                                                                   path  \n",
       "title                                                                                    \n",
       "snapshot cam29-01_12_23_12_01_22.png  data/Артем Пушкина/snapshot cam29-01_12_23_12_...  \n",
       "snapshot cam67-15_11_23_18_01_37.png  data/Артем Пушкина/snapshot cam67-15_11_23_18_...  \n",
       "snapshot cam11-15_11_23_09_59_08.png  data/Артем Пушкина/snapshot cam11-15_11_23_09_...  \n",
       "snapshot cam13-29_11_23_19_38_30.png  data/Артем Пушкина/snapshot cam13-29_11_23_19_...  \n",
       "snapshot cam11-17_11_23_10_03_46.png  data/Артем Пушкина/snapshot cam11-17_11_23_10_...  "
      ]
     },
     "execution_count": 2,
     "metadata": {},
     "output_type": "execute_result"
    }
   ],
   "source": [
    "metadata = init_metadata(\"./original-data/metadata_video.csv\", \"./original-data/metadata_imgs.csv\")[\"metadata_img\"]\n",
    "metadata.head()"
   ]
  },
  {
   "cell_type": "code",
   "execution_count": 3,
   "metadata": {},
   "outputs": [],
   "source": [
    "paths = [path.replace(\"data\", \"original-data\") for path in metadata[\"path\"].values]\n",
    "path_labels = [path.replace(\"original-data\", \"labels\").replace(\".png\", \".pickle\") for path in paths]"
   ]
  },
  {
   "cell_type": "code",
   "execution_count": 4,
   "metadata": {},
   "outputs": [],
   "source": [
    "with open(\"./labels/path_labels_img.pickle\", \"wb\") as f:\n",
    "    pickle.dump(path_labels, f)"
   ]
  },
  {
   "cell_type": "code",
   "execution_count": 5,
   "metadata": {},
   "outputs": [
    {
     "data": {
      "text/plain": [
       "['labels/Артем Пушкина/snapshot cam29-01_12_23_12_01_22.pickle',\n",
       " 'labels/Артем Пушкина/snapshot cam67-15_11_23_18_01_37.pickle',\n",
       " 'labels/Артем Пушкина/snapshot cam11-15_11_23_09_59_08.pickle',\n",
       " 'labels/Артем Пушкина/snapshot cam13-29_11_23_19_38_30.pickle',\n",
       " 'labels/Артем Пушкина/snapshot cam11-17_11_23_10_03_46.pickle']"
      ]
     },
     "execution_count": 5,
     "metadata": {},
     "output_type": "execute_result"
    }
   ],
   "source": [
    "path_labels[:5]"
   ]
  },
  {
   "cell_type": "code",
   "execution_count": 6,
   "metadata": {},
   "outputs": [
    {
     "data": {
      "text/plain": [
       "['original-data/Артем Пушкина/snapshot cam29-01_12_23_12_01_22.png',\n",
       " 'original-data/Артем Пушкина/snapshot cam67-15_11_23_18_01_37.png',\n",
       " 'original-data/Артем Пушкина/snapshot cam11-15_11_23_09_59_08.png',\n",
       " 'original-data/Артем Пушкина/snapshot cam13-29_11_23_19_38_30.png',\n",
       " 'original-data/Артем Пушкина/snapshot cam11-17_11_23_10_03_46.png']"
      ]
     },
     "execution_count": 6,
     "metadata": {},
     "output_type": "execute_result"
    }
   ],
   "source": [
    "paths[:5]"
   ]
  },
  {
   "cell_type": "code",
   "execution_count": 7,
   "metadata": {},
   "outputs": [],
   "source": [
    "model = YOLO(\"model/yolov8x.pt\")"
   ]
  },
  {
   "cell_type": "code",
   "execution_count": 38,
   "metadata": {},
   "outputs": [
    {
     "name": "stdout",
     "output_type": "stream",
     "text": [
      "\n",
      "0: 480x640 6 persons, 236.7ms\n",
      "Speed: 4.8ms preprocess, 236.7ms inference, 2.6ms postprocess per image at shape (1, 3, 480, 640)\n"
     ]
    }
   ],
   "source": [
    "img = cv2.imread(paths[4])\n",
    "pred = model(img, classes=0)\n",
    "boxes = pred[0].boxes[0].xyxyn"
   ]
  },
  {
   "cell_type": "code",
   "execution_count": 50,
   "metadata": {},
   "outputs": [
    {
     "data": {
      "text/plain": [
       "[0.5834288001060486,\n",
       " 0.23490500450134277,\n",
       " 0.6705202460289001,\n",
       " 0.6010701656341553]"
      ]
     },
     "execution_count": 50,
     "metadata": {},
     "output_type": "execute_result"
    }
   ],
   "source": [
    "boxes.tolist()"
   ]
  },
  {
   "cell_type": "code",
   "execution_count": 52,
   "metadata": {},
   "outputs": [
    {
     "data": {
      "text/plain": [
       "{0: 'person',\n",
       " 1: 'bicycle',\n",
       " 2: 'car',\n",
       " 3: 'motorcycle',\n",
       " 4: 'airplane',\n",
       " 5: 'bus',\n",
       " 6: 'train',\n",
       " 7: 'truck',\n",
       " 8: 'boat',\n",
       " 9: 'traffic light',\n",
       " 10: 'fire hydrant',\n",
       " 11: 'stop sign',\n",
       " 12: 'parking meter',\n",
       " 13: 'bench',\n",
       " 14: 'bird',\n",
       " 15: 'cat',\n",
       " 16: 'dog',\n",
       " 17: 'horse',\n",
       " 18: 'sheep',\n",
       " 19: 'cow',\n",
       " 20: 'elephant',\n",
       " 21: 'bear',\n",
       " 22: 'zebra',\n",
       " 23: 'giraffe',\n",
       " 24: 'backpack',\n",
       " 25: 'umbrella',\n",
       " 26: 'handbag',\n",
       " 27: 'tie',\n",
       " 28: 'suitcase',\n",
       " 29: 'frisbee',\n",
       " 30: 'skis',\n",
       " 31: 'snowboard',\n",
       " 32: 'sports ball',\n",
       " 33: 'kite',\n",
       " 34: 'baseball bat',\n",
       " 35: 'baseball glove',\n",
       " 36: 'skateboard',\n",
       " 37: 'surfboard',\n",
       " 38: 'tennis racket',\n",
       " 39: 'bottle',\n",
       " 40: 'wine glass',\n",
       " 41: 'cup',\n",
       " 42: 'fork',\n",
       " 43: 'knife',\n",
       " 44: 'spoon',\n",
       " 45: 'bowl',\n",
       " 46: 'banana',\n",
       " 47: 'apple',\n",
       " 48: 'sandwich',\n",
       " 49: 'orange',\n",
       " 50: 'broccoli',\n",
       " 51: 'carrot',\n",
       " 52: 'hot dog',\n",
       " 53: 'pizza',\n",
       " 54: 'donut',\n",
       " 55: 'cake',\n",
       " 56: 'chair',\n",
       " 57: 'couch',\n",
       " 58: 'potted plant',\n",
       " 59: 'bed',\n",
       " 60: 'dining table',\n",
       " 61: 'toilet',\n",
       " 62: 'tv',\n",
       " 63: 'laptop',\n",
       " 64: 'mouse',\n",
       " 65: 'remote',\n",
       " 66: 'keyboard',\n",
       " 67: 'cell phone',\n",
       " 68: 'microwave',\n",
       " 69: 'oven',\n",
       " 70: 'toaster',\n",
       " 71: 'sink',\n",
       " 72: 'refrigerator',\n",
       " 73: 'book',\n",
       " 74: 'clock',\n",
       " 75: 'vase',\n",
       " 76: 'scissors',\n",
       " 77: 'teddy bear',\n",
       " 78: 'hair drier',\n",
       " 79: 'toothbrush'}"
      ]
     },
     "execution_count": 52,
     "metadata": {},
     "output_type": "execute_result"
    }
   ],
   "source": [
    "pred[0].names\n"
   ]
  },
  {
   "cell_type": "code",
   "execution_count": 45,
   "metadata": {},
   "outputs": [
    {
     "data": {
      "text/plain": [
       "[0, 0, 0, 0, 0, 0]"
      ]
     },
     "execution_count": 45,
     "metadata": {},
     "output_type": "execute_result"
    }
   ],
   "source": [
    "[int(i) for i in pred[0].boxes.cls.tolist()]"
   ]
  },
  {
   "cell_type": "code",
   "execution_count": 14,
   "metadata": {},
   "outputs": [],
   "source": [
    "def marking_img(\n",
    "    model: YOLO,\n",
    "    path: str,\n",
    "):\n",
    "    results = []\n",
    "    img = cv2.imread(path)\n",
    "\n",
    "    result = model.predict(img, classes=0, device=\"0\", verbose=False)\n",
    "\n",
    "    results.append(\n",
    "        {\n",
    "            \"boxes\": result[0].boxes,\n",
    "            \"probs\": result[0].probs\n",
    "        }\n",
    "    )\n",
    "    \n",
    "    return pd.DataFrame(results)\n"
   ]
  },
  {
   "cell_type": "code",
   "execution_count": 16,
   "metadata": {},
   "outputs": [
    {
     "name": "stderr",
     "output_type": "stream",
     "text": [
      "  0%|          | 0/6629 [00:00<?, ?it/s]"
     ]
    },
    {
     "name": "stderr",
     "output_type": "stream",
     "text": [
      "100%|██████████| 6629/6629 [14:20<00:00,  7.71it/s]\n"
     ]
    }
   ],
   "source": [
    "for path, path_label in zip(tqdm(paths), path_labels):\n",
    "    marks = marking_img(\n",
    "        model=model,\n",
    "        path=path\n",
    "    )\n",
    "    \n",
    "    with open(path_label, \"wb\") as f:\n",
    "        pickle.dump(marks, f)\n"
   ]
  },
  {
   "cell_type": "code",
   "execution_count": null,
   "metadata": {},
   "outputs": [],
   "source": []
  }
 ],
 "metadata": {
  "kernelspec": {
   "display_name": "video",
   "language": "python",
   "name": "python3"
  },
  "language_info": {
   "codemirror_mode": {
    "name": "ipython",
    "version": 3
   },
   "file_extension": ".py",
   "mimetype": "text/x-python",
   "name": "python",
   "nbconvert_exporter": "python",
   "pygments_lexer": "ipython3",
   "version": "3.12.2"
  }
 },
 "nbformat": 4,
 "nbformat_minor": 2
}
