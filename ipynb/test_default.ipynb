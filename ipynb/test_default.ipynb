{
 "cells": [
  {
   "cell_type": "code",
   "execution_count": 1,
   "metadata": {},
   "outputs": [],
   "source": [
    "from ultralytics import YOLO\n",
    "\n",
    "model = YOLO(\"/home/akiirabino/video-anal/ipynb/model/yolov8l-d3-e100-default-best.pt\")"
   ]
  },
  {
   "cell_type": "code",
   "execution_count": 2,
   "metadata": {},
   "outputs": [],
   "source": [
    "import os\n",
    "import cv2\n",
    "root_dir = \"/home/akiirabino/video-anal/ipynb/dataset-1/train/images/\"\n",
    "images = [cv2.resize(cv2.imread(root_dir + path), (640,640)) for i, path in enumerate(os.listdir(root_dir)) if i < 100]"
   ]
  },
  {
   "cell_type": "code",
   "execution_count": 5,
   "metadata": {},
   "outputs": [
    {
     "name": "stdout",
     "output_type": "stream",
     "text": [
      "\n",
      "0: 640x640 1 customer, 134.6ms\n",
      "1: 640x640 1 seller, 134.6ms\n",
      "2: 640x640 2 customers, 2 sellers, 134.6ms\n",
      "3: 640x640 (no detections), 134.6ms\n",
      "4: 640x640 2 sellers, 134.6ms\n",
      "5: 640x640 (no detections), 134.6ms\n",
      "6: 640x640 (no detections), 134.6ms\n",
      "7: 640x640 2 persons, 2 customers, 3 sellers, 134.6ms\n",
      "8: 640x640 (no detections), 134.6ms\n",
      "9: 640x640 (no detections), 134.6ms\n",
      "10: 640x640 (no detections), 134.6ms\n",
      "11: 640x640 1 customer, 3 sellers, 134.6ms\n",
      "12: 640x640 (no detections), 134.6ms\n",
      "13: 640x640 3 customers, 134.6ms\n",
      "14: 640x640 (no detections), 134.6ms\n",
      "15: 640x640 (no detections), 134.6ms\n",
      "16: 640x640 (no detections), 134.6ms\n",
      "17: 640x640 1 seller, 134.6ms\n",
      "18: 640x640 (no detections), 134.6ms\n",
      "19: 640x640 (no detections), 134.6ms\n",
      "20: 640x640 (no detections), 134.6ms\n",
      "21: 640x640 (no detections), 134.6ms\n",
      "22: 640x640 (no detections), 134.6ms\n",
      "23: 640x640 (no detections), 134.6ms\n",
      "24: 640x640 (no detections), 134.6ms\n",
      "25: 640x640 (no detections), 134.6ms\n",
      "26: 640x640 3 customers, 4 sellers, 134.6ms\n",
      "27: 640x640 (no detections), 134.6ms\n",
      "28: 640x640 (no detections), 134.6ms\n",
      "29: 640x640 3 customers, 2 sellers, 134.6ms\n",
      "30: 640x640 (no detections), 134.6ms\n",
      "31: 640x640 1 customer, 134.6ms\n",
      "32: 640x640 (no detections), 134.6ms\n",
      "33: 640x640 (no detections), 134.6ms\n",
      "34: 640x640 3 customers, 2 sellers, 134.6ms\n",
      "35: 640x640 (no detections), 134.6ms\n",
      "36: 640x640 1 customer, 134.6ms\n",
      "37: 640x640 (no detections), 134.6ms\n",
      "38: 640x640 2 customers, 134.6ms\n",
      "39: 640x640 (no detections), 134.6ms\n",
      "40: 640x640 1 customer, 134.6ms\n",
      "41: 640x640 1 person, 6 customers, 134.6ms\n",
      "42: 640x640 2 customers, 3 sellers, 134.6ms\n",
      "43: 640x640 (no detections), 134.6ms\n",
      "44: 640x640 (no detections), 134.6ms\n",
      "45: 640x640 (no detections), 134.6ms\n",
      "46: 640x640 (no detections), 134.6ms\n",
      "47: 640x640 (no detections), 134.6ms\n",
      "48: 640x640 (no detections), 134.6ms\n",
      "49: 640x640 (no detections), 134.6ms\n",
      "50: 640x640 (no detections), 134.6ms\n",
      "51: 640x640 4 customers, 7 sellers, 134.6ms\n",
      "52: 640x640 (no detections), 134.6ms\n",
      "53: 640x640 (no detections), 134.6ms\n",
      "54: 640x640 (no detections), 134.6ms\n",
      "55: 640x640 (no detections), 134.6ms\n",
      "56: 640x640 (no detections), 134.6ms\n",
      "57: 640x640 (no detections), 134.6ms\n",
      "58: 640x640 (no detections), 134.6ms\n",
      "59: 640x640 (no detections), 134.6ms\n",
      "60: 640x640 (no detections), 134.6ms\n",
      "61: 640x640 1 customer, 134.6ms\n",
      "62: 640x640 1 customer, 3 sellers, 134.6ms\n",
      "63: 640x640 (no detections), 134.6ms\n",
      "64: 640x640 1 seller, 134.6ms\n",
      "65: 640x640 (no detections), 134.6ms\n",
      "66: 640x640 2 persons, 1 customer, 134.6ms\n",
      "67: 640x640 5 customers, 134.6ms\n",
      "68: 640x640 (no detections), 134.6ms\n",
      "69: 640x640 1 customer, 1 seller, 134.6ms\n",
      "70: 640x640 (no detections), 134.6ms\n",
      "71: 640x640 (no detections), 134.6ms\n",
      "72: 640x640 (no detections), 134.6ms\n",
      "73: 640x640 (no detections), 134.6ms\n",
      "74: 640x640 2 customers, 134.6ms\n",
      "75: 640x640 (no detections), 134.6ms\n",
      "76: 640x640 (no detections), 134.6ms\n",
      "77: 640x640 3 sellers, 134.6ms\n",
      "78: 640x640 4 customers, 6 sellers, 134.6ms\n",
      "79: 640x640 (no detections), 134.6ms\n",
      "80: 640x640 (no detections), 134.6ms\n",
      "81: 640x640 (no detections), 134.6ms\n",
      "82: 640x640 (no detections), 134.6ms\n",
      "83: 640x640 2 customers, 3 sellers, 134.6ms\n",
      "84: 640x640 1 customer, 1 seller, 134.6ms\n",
      "85: 640x640 (no detections), 134.6ms\n",
      "86: 640x640 (no detections), 134.6ms\n",
      "87: 640x640 2 sellers, 134.6ms\n",
      "88: 640x640 1 customer, 134.6ms\n",
      "89: 640x640 (no detections), 134.6ms\n",
      "90: 640x640 2 customers, 1 seller, 134.6ms\n",
      "91: 640x640 1 customer, 134.6ms\n",
      "92: 640x640 1 customer, 134.6ms\n",
      "93: 640x640 (no detections), 134.6ms\n",
      "94: 640x640 (no detections), 134.6ms\n",
      "95: 640x640 (no detections), 134.6ms\n",
      "96: 640x640 (no detections), 134.6ms\n",
      "97: 640x640 (no detections), 134.6ms\n",
      "98: 640x640 (no detections), 134.6ms\n",
      "99: 640x640 (no detections), 134.6ms\n",
      "Speed: 3.4ms preprocess, 134.6ms inference, 0.3ms postprocess per image at shape (1, 3, 640, 640)\n"
     ]
    }
   ],
   "source": [
    "result = model(images)"
   ]
  },
  {
   "cell_type": "code",
   "execution_count": 4,
   "metadata": {},
   "outputs": [
    {
     "data": {
      "text/plain": [
       "141.6703486442566"
      ]
     },
     "execution_count": 4,
     "metadata": {},
     "output_type": "execute_result"
    }
   ],
   "source": [
    "import numpy as np\n",
    "time = []\n",
    "for i in result:\n",
    "    time.append(i.speed[\"inference\"])\n",
    "np.mean(time)\n"
   ]
  }
 ],
 "metadata": {
  "kernelspec": {
   "display_name": "ipynb",
   "language": "python",
   "name": "python3"
  },
  "language_info": {
   "codemirror_mode": {
    "name": "ipython",
    "version": 3
   },
   "file_extension": ".py",
   "mimetype": "text/x-python",
   "name": "python",
   "nbconvert_exporter": "python",
   "pygments_lexer": "ipython3",
   "version": "3.12.2"
  }
 },
 "nbformat": 4,
 "nbformat_minor": 2
}
