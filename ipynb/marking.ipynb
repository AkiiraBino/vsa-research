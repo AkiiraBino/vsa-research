{
 "cells": [
  {
   "cell_type": "code",
   "execution_count": 1,
   "metadata": {},
   "outputs": [],
   "source": [
    "import cv2\n",
    "\n",
    "import numpy as np\n",
    "import pandas as pd\n",
    "import pickle\n",
    "\n",
    "from ultralytics import YOLO\n",
    "\n",
    "from tqdm import tqdm\n",
    "\n",
    "from utils import init_metadata"
   ]
  },
  {
   "cell_type": "code",
   "execution_count": null,
   "metadata": {},
   "outputs": [],
   "source": [
    "metadata = init_metadata(\"./original-data/metadata_video.csv\", \"./original-data/metadata_imgs.csv\")\n",
    "paths = [path.replace(\"original-data\", \"processing-data\") for path in metadata[\"metadata_video\"][\"path\"].values]\n",
    "path_labels = [path.replace(\"processing-data\", \"labels\").replace(\".mp4\", \".pickle\") for path in paths]"
   ]
  },
  {
   "cell_type": "code",
   "execution_count": null,
   "metadata": {},
   "outputs": [],
   "source": [
    "with open(\"./labels/path_labels.pickle\", \"wb\") as f:\n",
    "    pickle.dump(path_labels, f)"
   ]
  },
  {
   "cell_type": "code",
   "execution_count": 3,
   "metadata": {},
   "outputs": [
    {
     "data": {
      "text/plain": [
       "['labels/Южно-Сахалинск Панорама/video 19.2.66.10 - Cam-MBT-14 04.11.23 13.25.00-13.30.00.pickle',\n",
       " 'labels/Южно-Сахалинск Панорама/video 19.2.66.9 - C-20-63 04.11.23 12.27.00-12.32.00.pickle',\n",
       " 'labels/Южно-Сахалинск Панорама/video 19.2.66.9 - C-39-58 04.11.23 12.27.00-12.32.00.pickle',\n",
       " 'labels/Южно-Сахалинск Панорама/video 19.2.66.9 - C-41-40 04.11.23 11.27.00-11.32.00.pickle',\n",
       " 'labels/Южно-Сахалинск Панорама/video 19.2.66.10 - Cam-supermarket-123 04.11.23 10.29.00-10.34.00.pickle']"
      ]
     },
     "execution_count": 3,
     "metadata": {},
     "output_type": "execute_result"
    }
   ],
   "source": [
    "path_labels[:5]"
   ]
  },
  {
   "cell_type": "code",
   "execution_count": 4,
   "metadata": {},
   "outputs": [
    {
     "data": {
      "text/plain": [
       "['processing-data/Южно-Сахалинск Панорама/video 19.2.66.10 - Cam-MBT-14 04.11.23 13.25.00-13.30.00.mp4',\n",
       " 'processing-data/Южно-Сахалинск Панорама/video 19.2.66.9 - C-20-63 04.11.23 12.27.00-12.32.00.mp4',\n",
       " 'processing-data/Южно-Сахалинск Панорама/video 19.2.66.9 - C-39-58 04.11.23 12.27.00-12.32.00.mp4',\n",
       " 'processing-data/Южно-Сахалинск Панорама/video 19.2.66.9 - C-41-40 04.11.23 11.27.00-11.32.00.mp4',\n",
       " 'processing-data/Южно-Сахалинск Панорама/video 19.2.66.10 - Cam-supermarket-123 04.11.23 10.29.00-10.34.00.mp4']"
      ]
     },
     "execution_count": 4,
     "metadata": {},
     "output_type": "execute_result"
    }
   ],
   "source": [
    "paths[:5]"
   ]
  },
  {
   "cell_type": "code",
   "execution_count": 5,
   "metadata": {},
   "outputs": [],
   "source": [
    "model = YOLO(\"model/yolov8x.pt\")"
   ]
  },
  {
   "cell_type": "code",
   "execution_count": 6,
   "metadata": {},
   "outputs": [],
   "source": [
    "def marking_video(\n",
    "    model: YOLO,\n",
    "    path: str,\n",
    "):\n",
    "    results = []\n",
    "    cap = cv2.VideoCapture(path)\n",
    "\n",
    "    while(cap.isOpened()):\n",
    "        ret, frame = cap.read()\n",
    "\n",
    "        if ret:\n",
    "            result = model.predict(frame, classes=0, device=\"0\", verbose=False)\n",
    "\n",
    "            results.append(\n",
    "                {\n",
    "                    \"boxes\": result[0].boxes,\n",
    "                    \"probs\": result[0].probs\n",
    "                }\n",
    "            )\n",
    "\n",
    "            \n",
    "        else:\n",
    "            break\n",
    "\n",
    "    cap.release()\n",
    "    \n",
    "    return pd.DataFrame(results)\n"
   ]
  },
  {
   "cell_type": "code",
   "execution_count": 7,
   "metadata": {},
   "outputs": [
    {
     "data": {
      "text/plain": [
       "'processing-data/Южно-Сахалинск Панорама/video 19.2.66.10 - Cam-MBT-14 04.11.23 13.25.00-13.30.00.mp4'"
      ]
     },
     "execution_count": 7,
     "metadata": {},
     "output_type": "execute_result"
    }
   ],
   "source": [
    "paths[0]"
   ]
  },
  {
   "cell_type": "code",
   "execution_count": 8,
   "metadata": {},
   "outputs": [
    {
     "name": "stderr",
     "output_type": "stream",
     "text": [
      " 32%|███▏      | 239/737 [16:16:27<20:05:49, 145.28s/it][NULL @ 0x11af5e080] missing picture in access unit with size 1306\n",
      "[h264 @ 0xa534880] no frame!\n",
      "100%|██████████| 737/737 [47:01:37<00:00, 229.71s/it]   \n"
     ]
    }
   ],
   "source": [
    "for path, path_label in zip(tqdm(paths), path_labels):\n",
    "    marks = marking_video(\n",
    "        model=model,\n",
    "        path=path\n",
    "    )\n",
    "    \n",
    "    with open(path_label, \"wb\") as f:\n",
    "        pickle.dump(marks, f)\n"
   ]
  },
  {
   "cell_type": "code",
   "execution_count": null,
   "metadata": {},
   "outputs": [],
   "source": []
  }
 ],
 "metadata": {
  "kernelspec": {
   "display_name": "video",
   "language": "python",
   "name": "python3"
  },
  "language_info": {
   "codemirror_mode": {
    "name": "ipython",
    "version": 3
   },
   "file_extension": ".py",
   "mimetype": "text/x-python",
   "name": "python",
   "nbconvert_exporter": "python",
   "pygments_lexer": "ipython3",
   "version": "3.1.0"
  }
 },
 "nbformat": 4,
 "nbformat_minor": 2
}
