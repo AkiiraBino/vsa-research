{
 "cells": [
  {
   "cell_type": "code",
   "execution_count": 1,
   "metadata": {},
   "outputs": [
    {
     "name": "stderr",
     "output_type": "stream",
     "text": [
      "/root/miniconda3/envs/ipynb/lib/python3.12/site-packages/tqdm/auto.py:21: TqdmWarning: IProgress not found. Please update jupyter and ipywidgets. See https://ipywidgets.readthedocs.io/en/stable/user_install.html\n",
      "  from .autonotebook import tqdm as notebook_tqdm\n"
     ]
    }
   ],
   "source": [
    "import torch\n",
    "from sklearn.preprocessing import MinMaxScaler\n",
    "from ultralytics import YOLO\n",
    "from transformers import DPTImageProcessor, DPTForDepthEstimation, pipeline\n",
    "\n",
    "import gc\n",
    "\n",
    "import cv2\n",
    "import numpy as np\n",
    "from PIL import Image\n",
    "import matplotlib.pyplot as plt\n"
   ]
  },
  {
   "cell_type": "code",
   "execution_count": 2,
   "metadata": {},
   "outputs": [
    {
     "name": "stderr",
     "output_type": "stream",
     "text": [
      "/root/miniconda3/envs/ipynb/lib/python3.12/site-packages/huggingface_hub/file_download.py:1132: FutureWarning: `resume_download` is deprecated and will be removed in version 1.0.0. Downloads always resume when possible. If you want to force a new download, use `force_download=True`.\n",
      "  warnings.warn(\n",
      "Some weights of DPTForDepthEstimation were not initialized from the model checkpoint at Intel/dpt-large and are newly initialized: ['neck.fusion_stage.layers.0.residual_layer1.convolution1.bias', 'neck.fusion_stage.layers.0.residual_layer1.convolution1.weight', 'neck.fusion_stage.layers.0.residual_layer1.convolution2.bias', 'neck.fusion_stage.layers.0.residual_layer1.convolution2.weight']\n",
      "You should probably TRAIN this model on a down-stream task to be able to use it for predictions and inference.\n"
     ]
    }
   ],
   "source": [
    "# pipe_dpt = pipeline(task=\"depth-estimation\", model=\"Intel/dpt-large\")\n",
    "processor = DPTImageProcessor.from_pretrained(\"Intel/dpt-large\", cache_dir=\"model\")\n",
    "estimator = DPTForDepthEstimation.from_pretrained(\"Intel/dpt-large\", cache_dir=\"model\").to(\"cuda:0\")"
   ]
  },
  {
   "cell_type": "code",
   "execution_count": 19,
   "metadata": {},
   "outputs": [],
   "source": [
    "img1 = cv2.imread(\"/home/akiirabino/video-anal/ipynb/dataset-1/image.png\")\n",
    "img2 = cv2.imread(\"/home/akiirabino/video-anal/ipynb/dataset-1/image2.png\")\n",
    "img2 = cv2.resize(img2, (img1.shape[1], img1.shape[0]))"
   ]
  },
  {
   "cell_type": "code",
   "execution_count": 25,
   "metadata": {},
   "outputs": [
    {
     "data": {
      "text/plain": [
       "0.35539798540071194"
      ]
     },
     "execution_count": 25,
     "metadata": {},
     "output_type": "execute_result"
    }
   ],
   "source": [
    "from skimage.metrics import structural_similarity\n",
    "structural_similarity(img1, img2, channel_axis=2)"
   ]
  },
  {
   "cell_type": "code",
   "execution_count": 5,
   "metadata": {},
   "outputs": [
    {
     "data": {
      "text/plain": [
       "(640, 640)"
      ]
     },
     "execution_count": 5,
     "metadata": {},
     "output_type": "execute_result"
    }
   ],
   "source": [
    "inputs = processor(images=img1, return_tensors=\"pt\")\n",
    "inputs.to(\"cuda:0\")\n",
    "\n",
    "with torch.no_grad():\n",
    "    outputs1 = estimator(**inputs)\n",
    "    predicted_depth = outputs1.predicted_depth\n",
    "\n",
    "prediction = torch.nn.functional.interpolate(\n",
    "    predicted_depth.unsqueeze(1),\n",
    "    size=img1.shape[1::-1],\n",
    "    mode=\"bicubic\",\n",
    "    align_corners=False,\n",
    ")\n",
    "output1 = prediction.squeeze().cpu().numpy()\n",
    "scaler = MinMaxScaler((0, 640))\n",
    "output = scaler.fit_transform(output1)\n",
    "output1.shape"
   ]
  },
  {
   "cell_type": "code",
   "execution_count": 6,
   "metadata": {},
   "outputs": [
    {
     "name": "stdout",
     "output_type": "stream",
     "text": [
      "\n",
      "0: 640x640 (no detections), 156.1ms\n",
      "Speed: 30.4ms preprocess, 156.1ms inference, 4099.6ms postprocess per image at shape (1, 3, 640, 640)\n"
     ]
    }
   ],
   "source": [
    "model = YOLO(\"model/yolov8l-d3-e100-default-best.pt\")\n",
    "result_yolo1 = model(img1)"
   ]
  },
  {
   "cell_type": "code",
   "execution_count": 7,
   "metadata": {},
   "outputs": [
    {
     "data": {
      "text/plain": [
       "(640, 640)"
      ]
     },
     "execution_count": 7,
     "metadata": {},
     "output_type": "execute_result"
    }
   ],
   "source": [
    "inputs = processor(images=img1, return_tensors=\"pt\")\n",
    "inputs.to(\"cuda:0\")\n",
    "\n",
    "with torch.no_grad():\n",
    "    outputs2 = estimator(**inputs)\n",
    "    predicted_depth = outputs2.predicted_depth\n",
    "\n",
    "prediction2 = torch.nn.functional.interpolate(\n",
    "    predicted_depth.unsqueeze(1),\n",
    "    size=img1.shape[1::-1],\n",
    "    mode=\"bicubic\",\n",
    "    align_corners=False,\n",
    ")\n",
    "output2 = prediction.squeeze().cpu().numpy()\n",
    "scaler = MinMaxScaler((0, 640))\n",
    "output2 = scaler.fit_transform(output1)\n",
    "output2.shape"
   ]
  },
  {
   "cell_type": "code",
   "execution_count": 8,
   "metadata": {},
   "outputs": [
    {
     "name": "stdout",
     "output_type": "stream",
     "text": [
      "\n",
      "0: 640x640 (no detections), 67.1ms\n",
      "Speed: 1.2ms preprocess, 67.1ms inference, 1.0ms postprocess per image at shape (1, 3, 640, 640)\n"
     ]
    }
   ],
   "source": [
    "model = YOLO(\"model/yolov8l-d3-e100-default-best.pt\")\n",
    "result_yolo2 = model(img2)"
   ]
  },
  {
   "cell_type": "code",
   "execution_count": 9,
   "metadata": {},
   "outputs": [],
   "source": [
    "del processor, estimator, model"
   ]
  },
  {
   "cell_type": "code",
   "execution_count": 10,
   "metadata": {},
   "outputs": [],
   "source": [
    "gc.collect()\n",
    "torch.cuda.empty_cache()"
   ]
  },
  {
   "cell_type": "code",
   "execution_count": 11,
   "metadata": {},
   "outputs": [
    {
     "data": {
      "text/plain": [
       "ultralytics.engine.results.Boxes object with attributes:\n",
       "\n",
       "cls: tensor([], device='cuda:0')\n",
       "conf: tensor([], device='cuda:0')\n",
       "data: tensor([], device='cuda:0', size=(0, 6))\n",
       "id: None\n",
       "is_track: False\n",
       "orig_shape: (640, 640)\n",
       "shape: torch.Size([0, 6])\n",
       "xywh: tensor([], device='cuda:0', size=(0, 4))\n",
       "xywhn: tensor([], device='cuda:0', size=(0, 4))\n",
       "xyxy: tensor([], device='cuda:0', size=(0, 4))\n",
       "xyxyn: tensor([], device='cuda:0', size=(0, 4))"
      ]
     },
     "execution_count": 11,
     "metadata": {},
     "output_type": "execute_result"
    }
   ],
   "source": [
    "result_yolo1[0].boxes"
   ]
  },
  {
   "cell_type": "code",
   "execution_count": 12,
   "metadata": {},
   "outputs": [],
   "source": [
    "def xyxyn2xyxy(x, y, shape):\n",
    "    return x * shape[0], y * shape[1]"
   ]
  },
  {
   "cell_type": "code",
   "execution_count": 13,
   "metadata": {},
   "outputs": [],
   "source": [
    "def xyxyn_yolo2xyxy_plt(x, y, w, h, shape):\n",
    "    return x * shape[0] - w / 2, y * shape[1] - h / 2"
   ]
  },
  {
   "cell_type": "code",
   "execution_count": 14,
   "metadata": {},
   "outputs": [
    {
     "ename": "IndexError",
     "evalue": "index 0 is out of bounds for dimension 0 with size 0",
     "output_type": "error",
     "traceback": [
      "\u001b[0;31m---------------------------------------------------------------------------\u001b[0m",
      "\u001b[0;31mIndexError\u001b[0m                                Traceback (most recent call last)",
      "Cell \u001b[0;32mIn[14], line 5\u001b[0m\n\u001b[1;32m      3\u001b[0m xywhn1 \u001b[38;5;241m=\u001b[39m result_yolo1[\u001b[38;5;241m0\u001b[39m]\u001b[38;5;241m.\u001b[39mboxes\u001b[38;5;241m.\u001b[39mxywhn\u001b[38;5;241m.\u001b[39mdetach()\u001b[38;5;241m.\u001b[39mcpu()\n\u001b[1;32m      4\u001b[0m img_plt1 \u001b[38;5;241m=\u001b[39m result_yolo1[\u001b[38;5;241m0\u001b[39m]\u001b[38;5;241m.\u001b[39mplot()\n\u001b[0;32m----> 5\u001b[0m coordinate1 \u001b[38;5;241m=\u001b[39m \u001b[43mresult_yolo1\u001b[49m\u001b[43m[\u001b[49m\u001b[38;5;241;43m0\u001b[39;49m\u001b[43m]\u001b[49m\u001b[38;5;241;43m.\u001b[39;49m\u001b[43mboxes\u001b[49m\u001b[38;5;241;43m.\u001b[39;49m\u001b[43mxywhn\u001b[49m\u001b[43m[\u001b[49m\u001b[38;5;241;43m0\u001b[39;49m\u001b[43m]\u001b[49m\u001b[38;5;241m.\u001b[39mcpu()\u001b[38;5;241m.\u001b[39mdetach()\n\u001b[1;32m      6\u001b[0m x1,y1,w1,h1 \u001b[38;5;241m=\u001b[39m \u001b[38;5;28mlist\u001b[39m(\u001b[38;5;28mmap\u001b[39m(\u001b[38;5;28mint\u001b[39m, \u001b[38;5;28mmap\u001b[39m(\u001b[38;5;28;01mlambda\u001b[39;00m x: x\u001b[38;5;241m*\u001b[39m\u001b[38;5;241m640\u001b[39m, coordinate1)))\n\u001b[1;32m      7\u001b[0m x1 \u001b[38;5;241m=\u001b[39m \u001b[38;5;28mint\u001b[39m(coordinate1[\u001b[38;5;241m0\u001b[39m] \u001b[38;5;241m-\u001b[39m coordinate1[\u001b[38;5;241m2\u001b[39m] \u001b[38;5;241m/\u001b[39m\u001b[38;5;241m/\u001b[39m \u001b[38;5;241m2\u001b[39m)\n",
      "\u001b[0;31mIndexError\u001b[0m: index 0 is out of bounds for dimension 0 with size 0"
     ]
    }
   ],
   "source": [
    "cls1 = result_yolo1[0].boxes.cls.detach().cpu()\n",
    "xywh1 = result_yolo1[0].boxes.xywh.detach().cpu()\n",
    "xywhn1 = result_yolo1[0].boxes.xywhn.detach().cpu()\n",
    "img_plt1 = result_yolo1[0].plot()\n",
    "coordinate1 = result_yolo1[0].boxes.xywhn[0].cpu().detach()\n",
    "x1,y1,w1,h1 = list(map(int, map(lambda x: x*640, coordinate1)))\n",
    "x1 = int(coordinate1[0] - coordinate1[2] // 2)\n",
    "x2 = int(coordinate1[0] + coordinate1[2] // 2)\n",
    "y1 = int(coordinate1[1] - coordinate1[3] // 2)\n",
    "y2 = int(coordinate1[1] + coordinate1[3] // 2)"
   ]
  },
  {
   "cell_type": "code",
   "execution_count": null,
   "metadata": {},
   "outputs": [],
   "source": [
    "def distance(xyz1, xyz2):\n",
    "    x1, y1, z1 = xyz1\n",
    "    x2, y2, z2 = xyz2\n",
    "    return (\n",
    "        np.sqrt(\n",
    "            np.power(x1 - x2, 2) +\n",
    "            np.power(y1 - y2, 2) +\n",
    "            np.power(z1 - z2, 2)\n",
    "        )\n",
    "    )"
   ]
  },
  {
   "cell_type": "code",
   "execution_count": null,
   "metadata": {},
   "outputs": [],
   "source": [
    "import uuid\n",
    "peoples = []\n",
    "\n",
    "for cl, n_bbox in zip(cls1, xywhn1):\n",
    "    peoples.append(\n",
    "        {\n",
    "            \"uuid\": uuid.uuid4(),\n",
    "            \"type\": \"\",\n",
    "            \"embedding\": None,\n",
    "            \"corner_coordinates\": {\n",
    "                \"x1\": 0,\n",
    "                \"x2\": 0,\n",
    "                \"y1\": 0,\n",
    "                \"y2\": 0,\n",
    "            },\n",
    "            \"center_point\": [],\n",
    "            \"distances\": []\n",
    "        }\n",
    "    )\n",
    "\n",
    "    x, y, w, h = list(map(int, map(lambda x: x*640, n_bbox)))\n",
    "    \n",
    "    peoples[-1][\"corner_coordinates\"][\"x1\"] = int(x - w // 2)\n",
    "    peoples[-1][\"corner_coordinates\"][\"x2\"] = int(x + w // 2)\n",
    "    peoples[-1][\"corner_coordinates\"][\"y1\"] = int(y - h // 2)\n",
    "    peoples[-1][\"corner_coordinates\"][\"y2\"] = int(y + h // 2)\n",
    "\n",
    "    dpt = int(output[x-1:x, y-1:y].item())\n",
    "    if cl == 1: peoples[-1][\"type\"] = \"customer\"\n",
    "    elif cl==0: peoples[-1][\"type\"] = \"people\"\n",
    "    else: peoples[-1][\"type\"] = \"seller\"\n",
    "    peoples[-1][\"center_point\"] = [x, y, dpt]"
   ]
  },
  {
   "cell_type": "code",
   "execution_count": null,
   "metadata": {},
   "outputs": [
    {
     "data": {
      "text/plain": [
       "[{'uuid': UUID('66a9b992-8c2a-4586-9867-c046010ebb0f'),\n",
       "  'type': 'customer',\n",
       "  'embedding': None,\n",
       "  'corner_coordinates': {'x1': 300, 'x2': 408, 'y1': 138, 'y2': 286},\n",
       "  'center_point': [354, 212, 421],\n",
       "  'distances': []},\n",
       " {'uuid': UUID('6998892e-a896-4908-914f-11b554d8209e'),\n",
       "  'type': 'seller',\n",
       "  'embedding': None,\n",
       "  'corner_coordinates': {'x1': 79, 'x2': 129, 'y1': 526, 'y2': 576},\n",
       "  'center_point': [104, 551, 18],\n",
       "  'distances': []},\n",
       " {'uuid': UUID('dba4e0d5-5a8b-40dd-a710-3be5c009c973'),\n",
       "  'type': 'seller',\n",
       "  'embedding': None,\n",
       "  'corner_coordinates': {'x1': 72, 'x2': 118, 'y1': 615, 'y2': 639},\n",
       "  'center_point': [95, 627, 0],\n",
       "  'distances': []}]"
      ]
     },
     "execution_count": 24,
     "metadata": {},
     "output_type": "execute_result"
    }
   ],
   "source": [
    "peoples"
   ]
  },
  {
   "cell_type": "code",
   "execution_count": null,
   "metadata": {},
   "outputs": [
    {
     "data": {
      "text/plain": [
       "[354, 212, 421]"
      ]
     },
     "execution_count": 26,
     "metadata": {},
     "output_type": "execute_result"
    }
   ],
   "source": [
    "peoples[0][\"center_point\"]"
   ]
  },
  {
   "cell_type": "code",
   "execution_count": null,
   "metadata": {},
   "outputs": [],
   "source": [
    "\n",
    "\n",
    "\n",
    "for seller in [p for p in peoples if p[\"type\"] == \"seller\"]:\n",
    "    for customer in [p for p in peoples if p[\"type\"] == \"customer\"]:\n",
    "        if seller[\"embedding\"] is None:\n",
    "            seller[\"embedding\"] = img_plt1[\n",
    "                    seller[\"corner_coordinates\"][\"y1\"]:seller[\"corner_coordinates\"][\"y2\"],\n",
    "                    seller[\"corner_coordinates\"][\"x1\"]:seller[\"corner_coordinates\"][\"x2\"],\n",
    "                ]\n",
    "        elif customer[\"embedding\"] is None:\n",
    "            customer[\"embedding\"] = img_plt1[\n",
    "                    customer[\"corner_coordinates\"][\"y1\"]:customer[\"corner_coordinates\"][\"y2\"],\n",
    "                    customer[\"corner_coordinates\"][\"x1\"]:customer[\"corner_coordinates\"][\"x2\"],\n",
    "                ]\n",
    "            \n",
    "        d = distance(customer[\"center_point\"], seller[\"center_point\"])\n",
    "        seller[\"distances\"].append(\n",
    "            {\n",
    "                \"uuid\": customer[\"uuid\"],\n",
    "                \"distance\": d,\n",
    "            }\n",
    "        )\n",
    "\n",
    "        customer[\"distances\"].append(\n",
    "            {\n",
    "                \"uuid\": seller[\"uuid\"],\n",
    "                \"distance\": d,\n",
    "            }\n",
    "        )"
   ]
  },
  {
   "cell_type": "code",
   "execution_count": null,
   "metadata": {},
   "outputs": [
    {
     "data": {
      "text/plain": [
       "[{'uuid': UUID('84a059f2-6eb2-4ca0-8348-938021446d39'),\n",
       "  'type': 'seller',\n",
       "  'embedding': array([[[ 31, 112, 255],\n",
       "          [ 31, 112, 255],\n",
       "          [ 31, 112, 255],\n",
       "          ...,\n",
       "          [ 31, 112, 255],\n",
       "          [ 31, 112, 255],\n",
       "          [ 31, 112, 255]],\n",
       "  \n",
       "         [[ 31, 112, 255],\n",
       "          [ 31, 112, 255],\n",
       "          [109, 145, 224],\n",
       "          ...,\n",
       "          [136, 159, 211],\n",
       "          [132, 156, 219],\n",
       "          [104, 140, 255]],\n",
       "  \n",
       "         [[ 31, 112, 255],\n",
       "          [ 31, 112, 255],\n",
       "          [136, 158, 204],\n",
       "          ...,\n",
       "          [170, 177, 180],\n",
       "          [165, 172, 194],\n",
       "          [126, 148, 255]],\n",
       "  \n",
       "         ...,\n",
       "  \n",
       "         [[ 31, 112, 255],\n",
       "          [ 31, 112, 255],\n",
       "          [ 50,  68, 144],\n",
       "          ...,\n",
       "          [ 45,  43,  35],\n",
       "          [136, 136, 150],\n",
       "          [126, 148, 255]],\n",
       "  \n",
       "         [[ 31, 112, 255],\n",
       "          [ 31, 112, 255],\n",
       "          [ 64,  84, 165],\n",
       "          ...,\n",
       "          [ 66,  66,  80],\n",
       "          [133, 134, 164],\n",
       "          [126, 148, 255]],\n",
       "  \n",
       "         [[ 31, 112, 255],\n",
       "          [ 31, 112, 255],\n",
       "          [104, 140, 255],\n",
       "          ...,\n",
       "          [126, 148, 255],\n",
       "          [126, 148, 255],\n",
       "          [107, 140, 255]]], dtype=uint8),\n",
       "  'corner_coordinates': {'x1': 307, 'x2': 343, 'y1': 91, 'y2': 267},\n",
       "  'center_point': [325, 179, 452],\n",
       "  'distances': [{'uuid': UUID('160e5574-c0ab-4729-9f09-ee2c2e6bb48b'),\n",
       "    'distance': 468.3727148329629},\n",
       "   {'uuid': UUID('6efd5c11-4a4e-435e-b5f0-2b08fdab50d1'),\n",
       "    'distance': 59.016946718718},\n",
       "   {'uuid': UUID('2a98fa58-0026-420d-b4a0-1d0a822fe381'), 'distance': 0.0},\n",
       "   {'uuid': UUID('160e5574-c0ab-4729-9f09-ee2c2e6bb48b'),\n",
       "    'distance': 468.3727148329629},\n",
       "   {'uuid': UUID('6efd5c11-4a4e-435e-b5f0-2b08fdab50d1'),\n",
       "    'distance': 59.016946718718},\n",
       "   {'uuid': UUID('2a98fa58-0026-420d-b4a0-1d0a822fe381'), 'distance': 0.0}]},\n",
       " {'uuid': UUID('160e5574-c0ab-4729-9f09-ee2c2e6bb48b'),\n",
       "  'type': 'customer',\n",
       "  'embedding': array([[[151, 157, 255],\n",
       "          [151, 157, 255],\n",
       "          [151, 157, 255],\n",
       "          ...,\n",
       "          [151, 157, 255],\n",
       "          [151, 157, 255],\n",
       "          [151, 157, 255]],\n",
       "  \n",
       "         [[151, 157, 255],\n",
       "          [151, 157, 255],\n",
       "          [140, 137, 174],\n",
       "          ...,\n",
       "          [180, 170, 183],\n",
       "          [171, 165, 195],\n",
       "          [151, 157, 255]],\n",
       "  \n",
       "         [[151, 157, 255],\n",
       "          [151, 157, 255],\n",
       "          [147, 141, 161],\n",
       "          ...,\n",
       "          [181, 167, 155],\n",
       "          [179, 169, 181],\n",
       "          [151, 157, 255]],\n",
       "  \n",
       "         ...,\n",
       "  \n",
       "         [[151, 157, 255],\n",
       "          [151, 157, 255],\n",
       "          [121, 146, 160],\n",
       "          ...,\n",
       "          [  1,   1,   1],\n",
       "          [ 32,  35,  54],\n",
       "          [151, 157, 255]],\n",
       "  \n",
       "         [[151, 157, 255],\n",
       "          [151, 157, 255],\n",
       "          [124, 149, 161],\n",
       "          ...,\n",
       "          [  2,   2,   2],\n",
       "          [ 32,  33,  53],\n",
       "          [151, 157, 255]],\n",
       "  \n",
       "         [[151, 157, 255],\n",
       "          [151, 157, 255],\n",
       "          [131, 152, 180],\n",
       "          ...,\n",
       "          [ 34,  35,  55],\n",
       "          [ 59,  63,  97],\n",
       "          [151, 157, 255]]], dtype=uint8),\n",
       "  'corner_coordinates': {'x1': 496, 'x2': 580, 'y1': 499, 'y2': 639},\n",
       "  'center_point': [538, 569, 600],\n",
       "  'distances': [{'uuid': UUID('84a059f2-6eb2-4ca0-8348-938021446d39'),\n",
       "    'distance': 468.3727148329629},\n",
       "   {'uuid': UUID('84a059f2-6eb2-4ca0-8348-938021446d39'),\n",
       "    'distance': 468.3727148329629}]},\n",
       " {'uuid': UUID('6efd5c11-4a4e-435e-b5f0-2b08fdab50d1'),\n",
       "  'type': 'customer',\n",
       "  'embedding': array([[[151, 157, 255],\n",
       "          [151, 157, 255],\n",
       "          [151, 157, 255],\n",
       "          ...,\n",
       "          [151, 157, 255],\n",
       "          [151, 157, 255],\n",
       "          [151, 157, 255]],\n",
       "  \n",
       "         [[151, 157, 255],\n",
       "          [151, 157, 255],\n",
       "          [151, 157, 255],\n",
       "          ...,\n",
       "          [151, 157, 255],\n",
       "          [151, 157, 255],\n",
       "          [151, 157, 255]],\n",
       "  \n",
       "         [[151, 157, 255],\n",
       "          [161, 169, 209],\n",
       "          [162, 174, 196],\n",
       "          ...,\n",
       "          [ 90,  90, 138],\n",
       "          [ 44,  39,  74],\n",
       "          [ 82,  79, 126]],\n",
       "  \n",
       "         ...,\n",
       "  \n",
       "         [[151, 157, 255],\n",
       "          [176, 179, 201],\n",
       "          [183, 185, 185],\n",
       "          ...,\n",
       "          [ 55,  32,  36],\n",
       "          [ 68,  45,  48],\n",
       "          [139, 129, 147]],\n",
       "  \n",
       "         [[151, 157, 255],\n",
       "          [171, 175, 212],\n",
       "          [176, 178, 199],\n",
       "          ...,\n",
       "          [ 64,  47,  71],\n",
       "          [ 64,  48,  71],\n",
       "          [133, 126, 161]],\n",
       "  \n",
       "         [[151, 157, 255],\n",
       "          [151, 157, 255],\n",
       "          [151, 157, 255],\n",
       "          ...,\n",
       "          [151, 157, 255],\n",
       "          [151, 157, 255],\n",
       "          [151, 157, 255]]], dtype=uint8),\n",
       "  'corner_coordinates': {'x1': 351, 'x2': 393, 'y1': 96, 'y2': 332},\n",
       "  'center_point': [372, 214, 445],\n",
       "  'distances': [{'uuid': UUID('84a059f2-6eb2-4ca0-8348-938021446d39'),\n",
       "    'distance': 59.016946718718},\n",
       "   {'uuid': UUID('84a059f2-6eb2-4ca0-8348-938021446d39'),\n",
       "    'distance': 59.016946718718}]},\n",
       " {'uuid': UUID('2a98fa58-0026-420d-b4a0-1d0a822fe381'),\n",
       "  'type': 'customer',\n",
       "  'embedding': array([[[ 31, 112, 255],\n",
       "          [ 31, 112, 255],\n",
       "          [ 31, 112, 255],\n",
       "          ...,\n",
       "          [ 31, 112, 255],\n",
       "          [ 31, 112, 255],\n",
       "          [ 31, 112, 255]],\n",
       "  \n",
       "         [[ 31, 112, 255],\n",
       "          [ 31, 112, 255],\n",
       "          [109, 145, 224],\n",
       "          ...,\n",
       "          [136, 159, 211],\n",
       "          [132, 156, 219],\n",
       "          [104, 140, 255]],\n",
       "  \n",
       "         [[ 31, 112, 255],\n",
       "          [ 31, 112, 255],\n",
       "          [136, 158, 204],\n",
       "          ...,\n",
       "          [170, 177, 180],\n",
       "          [165, 172, 194],\n",
       "          [126, 148, 255]],\n",
       "  \n",
       "         ...,\n",
       "  \n",
       "         [[ 31, 112, 255],\n",
       "          [ 31, 112, 255],\n",
       "          [ 50,  68, 144],\n",
       "          ...,\n",
       "          [ 45,  43,  35],\n",
       "          [136, 136, 150],\n",
       "          [126, 148, 255]],\n",
       "  \n",
       "         [[ 31, 112, 255],\n",
       "          [ 31, 112, 255],\n",
       "          [ 64,  84, 165],\n",
       "          ...,\n",
       "          [ 66,  66,  80],\n",
       "          [133, 134, 164],\n",
       "          [126, 148, 255]],\n",
       "  \n",
       "         [[ 31, 112, 255],\n",
       "          [ 31, 112, 255],\n",
       "          [104, 140, 255],\n",
       "          ...,\n",
       "          [126, 148, 255],\n",
       "          [126, 148, 255],\n",
       "          [107, 140, 255]]], dtype=uint8),\n",
       "  'corner_coordinates': {'x1': 307, 'x2': 343, 'y1': 91, 'y2': 267},\n",
       "  'center_point': [325, 179, 452],\n",
       "  'distances': [{'uuid': UUID('84a059f2-6eb2-4ca0-8348-938021446d39'),\n",
       "    'distance': 0.0},\n",
       "   {'uuid': UUID('84a059f2-6eb2-4ca0-8348-938021446d39'), 'distance': 0.0}]}]"
      ]
     },
     "execution_count": 63,
     "metadata": {},
     "output_type": "execute_result"
    }
   ],
   "source": [
    "peoples"
   ]
  },
  {
   "cell_type": "code",
   "execution_count": null,
   "metadata": {},
   "outputs": [],
   "source": [
    "emb1 = peoples[0][\"embedding\"]\n",
    "emb2 = peoples[2][\"embedding\"]\n",
    "emb3 = peoples[3][\"embedding\"]"
   ]
  },
  {
   "cell_type": "code",
   "execution_count": null,
   "metadata": {},
   "outputs": [
    {
     "data": {
      "text/plain": [
       "(176, 36, 3)"
      ]
     },
     "execution_count": 45,
     "metadata": {},
     "output_type": "execute_result"
    }
   ],
   "source": [
    "emb1.shape"
   ]
  },
  {
   "cell_type": "code",
   "execution_count": null,
   "metadata": {},
   "outputs": [
    {
     "data": {
      "text/plain": [
       "(236, 42, 3)"
      ]
     },
     "execution_count": 46,
     "metadata": {},
     "output_type": "execute_result"
    }
   ],
   "source": [
    "emb2.shape"
   ]
  },
  {
   "cell_type": "code",
   "execution_count": null,
   "metadata": {},
   "outputs": [
    {
     "data": {
      "text/plain": [
       "(176, 36, 3)"
      ]
     },
     "execution_count": 51,
     "metadata": {},
     "output_type": "execute_result"
    }
   ],
   "source": [
    "emb3.shape"
   ]
  },
  {
   "cell_type": "code",
   "execution_count": null,
   "metadata": {},
   "outputs": [
    {
     "data": {
      "text/plain": [
       "<matplotlib.image.AxesImage at 0x7f519a2be570>"
      ]
     },
     "execution_count": 54,
     "metadata": {},
     "output_type": "execute_result"
    },
    {
     "data": {
      "image/png": "[encoded data removed]",
      "text/plain": [
       "<Figure size 640x480 with 1 Axes>"
      ]
     },
     "metadata": {},
     "output_type": "display_data"
    }
   ],
   "source": [
    "plt.imshow(cv2.resize(emb2, (36, 176)))"
   ]
  },
  {
   "cell_type": "code",
   "execution_count": null,
   "metadata": {},
   "outputs": [],
   "source": [
    "emb2 = cv2.resize(emb2, (36, 176))"
   ]
  },
  {
   "cell_type": "code",
   "execution_count": null,
   "metadata": {},
   "outputs": [],
   "source": []
  }
 ],
 "metadata": {
  "kernelspec": {
   "display_name": "ipynb",
   "language": "python",
   "name": "python3"
  },
  "language_info": {
   "codemirror_mode": {
    "name": "ipython",
    "version": 3
   },
   "file_extension": ".py",
   "mimetype": "text/x-python",
   "name": "python",
   "nbconvert_exporter": "python",
   "pygments_lexer": "ipython3",
   "version": "3.12.2"
  }
 },
 "nbformat": 4,
 "nbformat_minor": 2
}
